{
 "cells": [
  {
   "cell_type": "markdown",
   "metadata": {},
   "source": [
    "### This notebook is made to be simplistic so that you can use it as a template when developing your own PPO based controller. The actor and critic networks have 3 inputs, since we have 3 state element. The states are the 2 states from the transfer function $\\varphi(s) = G(s)\\delta(s)$, as well as the speed v."
   ]
  },
  {
   "cell_type": "code",
   "execution_count": 1,
   "metadata": {},
   "outputs": [],
   "source": [
    "import math\n",
    "import random\n",
    "import time\n",
    "\n",
    "import gym\n",
    "import numpy as np\n",
    "import scipy.linalg\n",
    "\n",
    "import torch\n",
    "import torch.nn as nn\n",
    "import torch.optim as optim\n",
    "import torch.nn.functional as F\n",
    "from torch.distributions import Normal"
   ]
  },
  {
   "cell_type": "code",
   "execution_count": 2,
   "metadata": {},
   "outputs": [],
   "source": [
    "from IPython.display import clear_output\n",
    "import matplotlib.pyplot as plt\n",
    "%matplotlib inline"
   ]
  },
  {
   "cell_type": "markdown",
   "metadata": {},
   "source": [
    "<h2>Use CUDA on GPU if avaliable</h2>"
   ]
  },
  {
   "cell_type": "code",
   "execution_count": 3,
   "metadata": {},
   "outputs": [],
   "source": [
    "use_cuda = torch.cuda.is_available()\n",
    "device   = torch.device(\"cuda\" if use_cuda else \"cpu\")"
   ]
  },
  {
   "cell_type": "markdown",
   "metadata": {},
   "source": [
    "<h2>Create Environments to run in parallel</h2>"
   ]
  },
  {
   "cell_type": "code",
   "execution_count": 4,
   "metadata": {},
   "outputs": [],
   "source": [
    "from Bike_barebone import BikeBareboneEnv # import the custom environment class\n",
    "from multiprocessing_env import SubprocVecEnv\n",
    "\n",
    "num_envs = 64\n",
    "\n",
    "def make_env():\n",
    "    def _thunk():\n",
    "        env = BikeBareboneEnv()\n",
    "        return env\n",
    "\n",
    "    return _thunk\n",
    "\n",
    "# Parallel environments used for training:\n",
    "envs = [make_env() for i in range(num_envs)]\n",
    "envs = SubprocVecEnv(envs)\n",
    "\n",
    "# Single environment used for evaluating:\n",
    "env = BikeBareboneEnv()"
   ]
  },
  {
   "cell_type": "markdown",
   "metadata": {},
   "source": [
    "<h2>Neural Network</h2>"
   ]
  },
  {
   "cell_type": "code",
   "execution_count": 5,
   "metadata": {},
   "outputs": [],
   "source": [
    "def init_weights(m):\n",
    "    if isinstance(m, nn.Linear):\n",
    "        nn.init.normal_(m.weight, mean=0., std=0.1)\n",
    "        nn.init.constant_(m.bias, 0.1)\n",
    "        \n",
    "\n",
    "class ActorCritic(nn.Module):\n",
    "    def __init__(self, num_inputs, num_outputs, hidden_size, std=0.0):\n",
    "        super(ActorCritic, self).__init__()\n",
    "        \n",
    "        # Critic network:\n",
    "        self.critic = nn.Sequential(\n",
    "            nn.Linear(num_inputs, hidden_size),\n",
    "            nn.ReLU(),\n",
    "            nn.Linear(hidden_size, hidden_size),\n",
    "            nn.ReLU(),\n",
    "            nn.Linear(hidden_size, 1)\n",
    "        )\n",
    "        # Actor network:\n",
    "        self.actor = nn.Sequential(\n",
    "            nn.Linear(num_inputs, hidden_size),\n",
    "            nn.ReLU(),\n",
    "            nn.Linear(hidden_size, hidden_size),\n",
    "            nn.ReLU(),\n",
    "            nn.Linear(hidden_size, 1)\n",
    "        )\n",
    "        # log-stadard deviation parameter:\n",
    "        self.log_std = nn.Parameter(torch.ones(1, num_outputs) * std)\n",
    "        \n",
    "        self.apply(init_weights)\n",
    "        \n",
    "    def forward(self, x):\n",
    "        value = self.critic(x)\n",
    "        mu    = self.actor(x)\n",
    "        std   = self.log_std.exp().expand_as(mu)\n",
    "        dist  = Normal(mu, std)\n",
    "        return dist, value"
   ]
  },
  {
   "cell_type": "code",
   "execution_count": 6,
   "metadata": {},
   "outputs": [],
   "source": [
    "def plot(frame_idx, rewards):\n",
    "    clear_output(True)\n",
    "    #clear_output(False)\n",
    "    plt.figure(figsize=(20,5))\n",
    "    plt.subplot(131)\n",
    "    plt.title('update %s. reward: %s' % (frame_idx, rewards[-1]))\n",
    "    plt.plot(rewards)\n",
    "    plt.show()\n",
    "    \n",
    "# Calculate cumulative reward for a model:\n",
    "def test_env(num_steps_eval=int(1e2)):\n",
    "\n",
    "    state = env.reset()\n",
    "    done = False\n",
    "    total_reward = 0\n",
    "    for i in range(num_steps_eval):\n",
    "        state = torch.FloatTensor(state).unsqueeze(0).to(device) # convert the current state to torch format\n",
    "        dist, _ = model(state) # get the distribution for the action from the current RL-agent\n",
    "        next_state, reward, done, _ = env.step(dist.sample().cpu().numpy()[0]) # sample an action from the dist.\n",
    "        state = next_state\n",
    "            \n",
    "        total_reward += reward\n",
    "        \n",
    "        if done:\n",
    "            break\n",
    "            \n",
    "    return total_reward\n",
    "\n",
    "\n",
    "# For a given RL-agent, get the state trajectory from a given state:\n",
    "def get_state_and_input_sequence(state_0, num_steps_eval = 100):\n",
    "    state = state_0.copy()\n",
    "    phi_sequence = [state[0]]\n",
    "    delta_sequence = []\n",
    "    v_sequence = [state[2]]\n",
    "    done = False\n",
    "    for _ in range(num_steps_eval):\n",
    "        state = torch.FloatTensor(state).unsqueeze(0).to(device) # convert the state to torch format\n",
    "        dist, _ = model(state) # get the action distribution\n",
    "        action = dist.sample().cpu().numpy()[0] # sample an action from the distribution\n",
    "        next_state, reward, done, _ = env.step(action) # take the action and get the reward and next state\n",
    "        \n",
    "        phi_sequence.append(next_state[0])\n",
    "        delta_sequence.append(action)\n",
    "        v_sequence.append(next_state[2])\n",
    "        state = next_state.copy()\n",
    "        \n",
    "        if done:\n",
    "            break\n",
    "    return phi_sequence, delta_sequence, v_sequence"
   ]
  },
  {
   "cell_type": "markdown",
   "metadata": {},
   "source": [
    "<h2>Function for calculating the GAE, generalized advantage estimation</h2>"
   ]
  },
  {
   "cell_type": "code",
   "execution_count": 7,
   "metadata": {},
   "outputs": [],
   "source": [
    "def compute_gae(next_value, rewards, masks, values, gamma=0.999, tau=0.95):\n",
    "    values = values + [next_value]\n",
    "    gae = 0\n",
    "    returns = []\n",
    "    for step in reversed(range(len(rewards))):\n",
    "        delta = rewards[step] + gamma * values[step + 1] * masks[step] - values[step]\n",
    "        gae = delta + gamma * tau * masks[step] * gae\n",
    "        returns.insert(0, gae + values[step])\n",
    "    return returns"
   ]
  },
  {
   "cell_type": "markdown",
   "metadata": {},
   "source": [
    "<h1> Proximal Policy Optimization Algorithm</h1>\n",
    "<h2><a href=\"https://arxiv.org/abs/1707.06347\">Arxiv</a></h2>"
   ]
  },
  {
   "cell_type": "code",
   "execution_count": 8,
   "metadata": {},
   "outputs": [],
   "source": [
    "def ppo_iter(mini_batch_size, states, actions, log_probs, returns, advantage):\n",
    "    batch_size = states.size(0)\n",
    "    for _ in range(batch_size // mini_batch_size):\n",
    "        rand_ids = np.random.randint(0, batch_size, mini_batch_size)\n",
    "        yield states[rand_ids, :], actions[rand_ids, :], log_probs[rand_ids, :], returns[rand_ids, :], advantage[rand_ids, :]\n",
    "        \n",
    "        \n",
    "\n",
    "def ppo_update(ppo_epochs, mini_batch_size, states, actions, log_probs, returns, advantages, clip_param=0.2):\n",
    "    for _ in range(ppo_epochs):\n",
    "        for state, action, old_log_probs, return_, advantage in ppo_iter(mini_batch_size, states, actions, log_probs, returns, advantages):\n",
    "            dist, value = model(state)\n",
    "            entropy = dist.entropy().mean()\n",
    "            new_log_probs = dist.log_prob(action)\n",
    "\n",
    "            ratio = (new_log_probs - old_log_probs).exp()\n",
    "            surr1 = ratio * advantage\n",
    "            surr2 = torch.clamp(ratio, 1.0 - clip_param, 1.0 + clip_param) * advantage\n",
    "\n",
    "            actor_loss  = - torch.min(surr1, surr2).mean()\n",
    "            critic_loss = (return_ - value).pow(2).mean()\n",
    "\n",
    "            loss = 0.5 * critic_loss + actor_loss - 0.001 * entropy\n",
    "\n",
    "            optimizer.zero_grad()\n",
    "            loss.backward()\n",
    "            optimizer.step()"
   ]
  },
  {
   "cell_type": "markdown",
   "metadata": {},
   "source": [
    "### Hyperparameters and initiation of model and optimizer:"
   ]
  },
  {
   "cell_type": "code",
   "execution_count": 9,
   "metadata": {},
   "outputs": [],
   "source": [
    "# The number of state elements is the number of inputs to the neural networks. The size of the state-space\n",
    "# (or observation space) is fetched from the environment (since we have 4 states it will be 4):\n",
    "num_inputs  = envs.observation_space.shape[0]\n",
    "# The output of the actor network is the size of the action space. The size of the state-space\n",
    "# is fetched from the environment (since delta is the only action it will be 1):\n",
    "num_outputs = envs.action_space.shape[0]\n",
    "\n",
    "\n",
    "hidden_size      = 32 # Number of neurons per hidden layer\n",
    "num_steps_train  = 50 # Length of sequences to train the agent on\n",
    "num_steps_eval   = 100 # Length of sequences to evaluate the agent on\n",
    "mini_batch_size  = 64 # The size of the mini batches that the neural network will be trained on. Should not be\n",
    "                      # larger than num_steps_train*num_envs (=the batch size)\n",
    "ppo_epochs       = 4 # Number of times the entire batch get passed through the network\n",
    "gamma = 0.999 # discount factor\n",
    "\n",
    "# Learning rate\n",
    "lr = 3e-4\n",
    "\n",
    "model = ActorCritic(num_inputs, num_outputs, hidden_size).to(device)\n",
    "optimizer = optim.Adam(model.parameters(), lr=lr)"
   ]
  },
  {
   "cell_type": "markdown",
   "metadata": {},
   "source": [
    "### Load best network.\n",
    "#### When the training progress has crashed or stagnated: restart the kernel, lower the learning rate and uncomment the model.load_state_dict... You can also change highest_test_reward to the best reward you got, but the only thing it does is that the best performing netowork will not be overwritten if the score is lower than it."
   ]
  },
  {
   "cell_type": "code",
   "execution_count": 10,
   "metadata": {},
   "outputs": [],
   "source": [
    "#model.load_state_dict(torch.load('saved_networks/best_network'))\n",
    "highest_test_reward = -np.inf # Previous highest reward\n",
    "test_rewards = []"
   ]
  },
  {
   "cell_type": "code",
   "execution_count": 11,
   "metadata": {
    "scrolled": false
   },
   "outputs": [
    {
     "data": {
      "image/png": "[encoded data removed]",
      "text/plain": [
       "<Figure size 1440x360 with 1 Axes>"
      ]
     },
     "metadata": {
      "needs_background": "light"
     },
     "output_type": "display_data"
    },
    {
     "name": "stdout",
     "output_type": "stream",
     "text": [
      "Rewards: [-167973503.88384184, -154405041.86235344, -147506094.44656494, -126922133.40666544, -85789046.18828572]\n",
      "Current learning rate: 0.0003\n"
     ]
    },
    {
     "ename": "KeyboardInterrupt",
     "evalue": "",
     "output_type": "error",
     "traceback": [
      "\u001b[1;31m---------------------------------------------------------------------------\u001b[0m",
      "\u001b[1;31mKeyboardInterrupt\u001b[0m                         Traceback (most recent call last)",
      "\u001b[1;32m<ipython-input-11-f9c36ada0c40>\u001b[0m in \u001b[0;36m<module>\u001b[1;34m\u001b[0m\n\u001b[0;32m     49\u001b[0m \u001b[1;33m\u001b[0m\u001b[0m\n\u001b[0;32m     50\u001b[0m     \u001b[1;31m# The neural networks are updated here:\u001b[0m\u001b[1;33m\u001b[0m\u001b[1;33m\u001b[0m\u001b[1;33m\u001b[0m\u001b[0m\n\u001b[1;32m---> 51\u001b[1;33m     \u001b[0mppo_update\u001b[0m\u001b[1;33m(\u001b[0m\u001b[0mppo_epochs\u001b[0m\u001b[1;33m,\u001b[0m \u001b[0mmini_batch_size\u001b[0m\u001b[1;33m,\u001b[0m \u001b[0mstates\u001b[0m\u001b[1;33m,\u001b[0m \u001b[0mactions\u001b[0m\u001b[1;33m,\u001b[0m \u001b[0mlog_probs\u001b[0m\u001b[1;33m,\u001b[0m \u001b[0mreturns\u001b[0m\u001b[1;33m,\u001b[0m \u001b[0madvantage\u001b[0m\u001b[1;33m)\u001b[0m\u001b[1;33m\u001b[0m\u001b[1;33m\u001b[0m\u001b[0m\n\u001b[0m\u001b[0;32m     52\u001b[0m \u001b[1;33m\u001b[0m\u001b[0m\n\u001b[0;32m     53\u001b[0m     \u001b[0mppo_update_idx\u001b[0m \u001b[1;33m+=\u001b[0m \u001b[1;36m1\u001b[0m\u001b[1;33m\u001b[0m\u001b[1;33m\u001b[0m\u001b[0m\n",
      "\u001b[1;32m<ipython-input-8-7e55721e6f86>\u001b[0m in \u001b[0;36mppo_update\u001b[1;34m(ppo_epochs, mini_batch_size, states, actions, log_probs, returns, advantages, clip_param)\u001b[0m\n\u001b[0;32m     24\u001b[0m \u001b[1;33m\u001b[0m\u001b[0m\n\u001b[0;32m     25\u001b[0m             \u001b[0moptimizer\u001b[0m\u001b[1;33m.\u001b[0m\u001b[0mzero_grad\u001b[0m\u001b[1;33m(\u001b[0m\u001b[1;33m)\u001b[0m\u001b[1;33m\u001b[0m\u001b[1;33m\u001b[0m\u001b[0m\n\u001b[1;32m---> 26\u001b[1;33m             \u001b[0mloss\u001b[0m\u001b[1;33m.\u001b[0m\u001b[0mbackward\u001b[0m\u001b[1;33m(\u001b[0m\u001b[1;33m)\u001b[0m\u001b[1;33m\u001b[0m\u001b[1;33m\u001b[0m\u001b[0m\n\u001b[0m\u001b[0;32m     27\u001b[0m             \u001b[0moptimizer\u001b[0m\u001b[1;33m.\u001b[0m\u001b[0mstep\u001b[0m\u001b[1;33m(\u001b[0m\u001b[1;33m)\u001b[0m\u001b[1;33m\u001b[0m\u001b[1;33m\u001b[0m\u001b[0m\n",
      "\u001b[1;32m~\\Anaconda3\\lib\\site-packages\\torch\\tensor.py\u001b[0m in \u001b[0;36mbackward\u001b[1;34m(self, gradient, retain_graph, create_graph)\u001b[0m\n\u001b[0;32m    116\u001b[0m                 \u001b[0mproducts\u001b[0m\u001b[1;33m.\u001b[0m \u001b[0mDefaults\u001b[0m \u001b[0mto\u001b[0m\u001b[0;31m \u001b[0m\u001b[0;31m`\u001b[0m\u001b[0;31m`\u001b[0m\u001b[1;32mFalse\u001b[0m\u001b[0;31m`\u001b[0m\u001b[0;31m`\u001b[0m\u001b[1;33m.\u001b[0m\u001b[1;33m\u001b[0m\u001b[1;33m\u001b[0m\u001b[0m\n\u001b[0;32m    117\u001b[0m         \"\"\"\n\u001b[1;32m--> 118\u001b[1;33m         \u001b[0mtorch\u001b[0m\u001b[1;33m.\u001b[0m\u001b[0mautograd\u001b[0m\u001b[1;33m.\u001b[0m\u001b[0mbackward\u001b[0m\u001b[1;33m(\u001b[0m\u001b[0mself\u001b[0m\u001b[1;33m,\u001b[0m \u001b[0mgradient\u001b[0m\u001b[1;33m,\u001b[0m \u001b[0mretain_graph\u001b[0m\u001b[1;33m,\u001b[0m \u001b[0mcreate_graph\u001b[0m\u001b[1;33m)\u001b[0m\u001b[1;33m\u001b[0m\u001b[1;33m\u001b[0m\u001b[0m\n\u001b[0m\u001b[0;32m    119\u001b[0m \u001b[1;33m\u001b[0m\u001b[0m\n\u001b[0;32m    120\u001b[0m     \u001b[1;32mdef\u001b[0m \u001b[0mregister_hook\u001b[0m\u001b[1;33m(\u001b[0m\u001b[0mself\u001b[0m\u001b[1;33m,\u001b[0m \u001b[0mhook\u001b[0m\u001b[1;33m)\u001b[0m\u001b[1;33m:\u001b[0m\u001b[1;33m\u001b[0m\u001b[1;33m\u001b[0m\u001b[0m\n",
      "\u001b[1;32m~\\Anaconda3\\lib\\site-packages\\torch\\autograd\\__init__.py\u001b[0m in \u001b[0;36mbackward\u001b[1;34m(tensors, grad_tensors, retain_graph, create_graph, grad_variables)\u001b[0m\n\u001b[0;32m     91\u001b[0m     Variable._execution_engine.run_backward(\n\u001b[0;32m     92\u001b[0m         \u001b[0mtensors\u001b[0m\u001b[1;33m,\u001b[0m \u001b[0mgrad_tensors\u001b[0m\u001b[1;33m,\u001b[0m \u001b[0mretain_graph\u001b[0m\u001b[1;33m,\u001b[0m \u001b[0mcreate_graph\u001b[0m\u001b[1;33m,\u001b[0m\u001b[1;33m\u001b[0m\u001b[1;33m\u001b[0m\u001b[0m\n\u001b[1;32m---> 93\u001b[1;33m         allow_unreachable=True)  # allow_unreachable flag\n\u001b[0m\u001b[0;32m     94\u001b[0m \u001b[1;33m\u001b[0m\u001b[0m\n\u001b[0;32m     95\u001b[0m \u001b[1;33m\u001b[0m\u001b[0m\n",
      "\u001b[1;31mKeyboardInterrupt\u001b[0m: "
     ]
    }
   ],
   "source": [
    "state = envs.reset()\n",
    "max_ppo_updates = 40000 # Upper limit on how many training updates that can be done\n",
    "ppo_update_idx  = 0\n",
    "\n",
    "while ppo_update_idx < max_ppo_updates:\n",
    "\n",
    "    log_probs = []\n",
    "    values    = []\n",
    "    states    = []\n",
    "    actions   = []\n",
    "    rewards   = []\n",
    "    masks     = []\n",
    "    entropy = 0\n",
    "    state = envs.reset()\n",
    "    \n",
    "    # Collect sequences from the current agent:\n",
    "    for _ in range(num_steps_train):\n",
    "        state = torch.FloatTensor(state).to(device)\n",
    "        # Get the action distribution and the value for all the state of each paralell environment:\n",
    "        dist, value = model(state)\n",
    "\n",
    "        action = dist.sample() # Sample action from the distribution\n",
    "        next_state, reward, done, _ = envs.step(action.cpu().numpy()) # Take a step with the action\n",
    "\n",
    "        log_prob = dist.log_prob(action)\n",
    "        entropy += dist.entropy().mean()\n",
    "        \n",
    "        log_probs.append(log_prob)\n",
    "        values.append(value)\n",
    "        rewards.append(torch.FloatTensor(reward).unsqueeze(1).to(device))\n",
    "        masks.append(torch.FloatTensor(1 - done).unsqueeze(1).to(device))\n",
    "        \n",
    "        states.append(state)\n",
    "        actions.append(action)\n",
    "        \n",
    "        state = next_state\n",
    "              \n",
    "\n",
    "    next_state = torch.FloatTensor(next_state).to(device)\n",
    "    _, next_value = model(next_state)\n",
    "    returns = compute_gae(next_value, rewards, masks, values, gamma=gamma)\n",
    "\n",
    "    returns   = torch.cat(returns).detach()\n",
    "    log_probs = torch.cat(log_probs).detach()\n",
    "    values    = torch.cat(values).detach()\n",
    "    states    = torch.cat(states)\n",
    "    actions   = torch.cat(actions)\n",
    "    advantage = returns - values\n",
    "    \n",
    "    # The neural networks are updated here:\n",
    "    ppo_update(ppo_epochs, mini_batch_size, states, actions, log_probs, returns, advantage)\n",
    "    \n",
    "    ppo_update_idx += 1\n",
    "    # Every 20th update, the average cumulative reward is calculated and if it is the hightest as of yet,\n",
    "    # the best_network will be overwritten\n",
    "    if ppo_update_idx % 20 == 0:\n",
    "        test_reward = np.mean([test_env(num_steps_eval = num_steps_eval) for _ in range(64)])\n",
    "        test_rewards.append(test_reward)\n",
    "        plot(ppo_update_idx, test_rewards)\n",
    "        print('Rewards:', test_rewards)\n",
    "        print('Current learning rate:', lr)\n",
    "        if test_reward > highest_test_reward:\n",
    "            torch.save(model.state_dict(), 'saved_networks/best_network')\n",
    "            highest_test_reward = test_reward\n",
    "            "
   ]
  },
  {
   "cell_type": "markdown",
   "metadata": {},
   "source": [
    "### Save and load model"
   ]
  },
  {
   "cell_type": "code",
   "execution_count": 13,
   "metadata": {},
   "outputs": [
    {
     "data": {
      "text/plain": [
       "<All keys matched successfully>"
      ]
     },
     "execution_count": 13,
     "metadata": {},
     "output_type": "execute_result"
    }
   ],
   "source": [
    "# Save:\n",
    "#torch.save(model.state_dict(), 'saved_networks/ppo_network')\n",
    "\n",
    "# Load:\n",
    "#model.load_state_dict(torch.load('saved_networks/ppo_network'))\n",
    "#model.load_state_dict(torch.load('saved_networks/ppo_network_almost_report_2x32_0dot999'))\n"
   ]
  },
  {
   "cell_type": "markdown",
   "metadata": {},
   "source": [
    "### Get average cumulative reward"
   ]
  },
  {
   "cell_type": "code",
   "execution_count": 15,
   "metadata": {},
   "outputs": [
    {
     "data": {
      "text/plain": [
       "-152580.4477498602"
      ]
     },
     "execution_count": 15,
     "metadata": {},
     "output_type": "execute_result"
    }
   ],
   "source": [
    "test_reward = np.mean([test_env() for _ in range(200)])\n",
    "test_reward"
   ]
  },
  {
   "cell_type": "markdown",
   "metadata": {},
   "source": [
    "### Plot sequnce"
   ]
  },
  {
   "cell_type": "code",
   "execution_count": 14,
   "metadata": {
    "scrolled": false
   },
   "outputs": [
    {
     "data": {
      "image/png": "[encoded data removed]",
      "text/plain": [
       "<Figure size 1440x1008 with 2 Axes>"
      ]
     },
     "metadata": {
      "needs_background": "light"
     },
     "output_type": "display_data"
    }
   ],
   "source": [
    "init_phi = np.deg2rad(5)\n",
    "init_x2 = 0 # non-intuitive state from transfer function\n",
    "init_v = 5\n",
    "init_state = np.array([init_phi, init_x2, init_v], dtype=np.float32)\n",
    "\n",
    "state_0 = env.reset(init_state=init_state)\n",
    "phi_sequence, delta_sequence, velocity = get_state_and_input_sequence(state_0, num_steps_eval = num_steps_eval)\n",
    "\n",
    "Ts = 0.04\n",
    "t = np.arange(0, len(phi_sequence)*Ts, Ts)\n",
    "fig, axes = plt.subplots(1, 2, figsize=(20,14))\n",
    "\n",
    "# Roll angle (with RL controller):\n",
    "axes[0].plot(t, np.rad2deg(phi_sequence), label = \"RL controller\")\n",
    "axes[0].set_xlabel('Time (s)', fontsize = 18)\n",
    "axes[0].set_ylabel(r'$\\varphi$ (degrees)', fontsize = 18)\n",
    "axes[0].set_title('Roll angle', fontsize=20)\n",
    "axes[0].tick_params(axis=\"x\", labelsize=16)\n",
    "axes[0].tick_params(axis=\"y\", labelsize=16)\n",
    "\n",
    "# Steering angle (with RL controller)\n",
    "axes[1].plot(t[1:], np.rad2deg(delta_sequence), label=\"RL controller\")\n",
    "axes[1].set_xlabel('Time (s)', fontsize = 18)\n",
    "axes[1].set_ylabel('$\\delta$ (degrees)', fontsize = 18)\n",
    "axes[1].set_title('Steering angle', fontsize = 20);\n",
    "axes[1].tick_params(axis=\"x\", labelsize=16)\n",
    "axes[1].tick_params(axis=\"y\", labelsize=16)\n",
    "\n",
    "\n",
    "# Plotting the sequences using an LQR as well (they come from using the K gain from the dlqr algorithm)\n",
    "from utility_functions import get_optimal_sequence\n",
    "Q = np.array([[1, 0], [0, 0]], dtype=np.float32)\n",
    "R = 1\n",
    "optimal_phi_sequence, optimal_delta_sequence = get_optimal_sequence(init_state, env, num_steps_eval)\n",
    "t_optimal = np.arange(0, len(optimal_phi_sequence)*Ts, Ts)\n",
    "\n",
    "# Roll angle (with LQR):\n",
    "axes[0].plot(t_optimal, np.rad2deg(optimal_phi_sequence), alpha=0.7, label = \"LQR controller\")\n",
    "axes[0].legend(fontsize=14)\n",
    "# Steering angle (with LQR):\n",
    "axes[1].plot(t_optimal[1:], np.rad2deg(optimal_delta_sequence), alpha=0.7, label=\"LQR controller\")\n",
    "axes[1].legend(fontsize=14);\n"
   ]
  },
  {
   "cell_type": "code",
   "execution_count": null,
   "metadata": {},
   "outputs": [],
   "source": []
  }
 ],
 "metadata": {
  "kernelspec": {
   "display_name": "Python 3",
   "language": "python",
   "name": "python3"
  },
  "language_info": {
   "codemirror_mode": {
    "name": "ipython",
    "version": 3
   },
   "file_extension": ".py",
   "mimetype": "text/x-python",
   "name": "python",
   "nbconvert_exporter": "python",
   "pygments_lexer": "ipython3",
   "version": "3.7.3"
  }
 },
 "nbformat": 4,
 "nbformat_minor": 2
}
